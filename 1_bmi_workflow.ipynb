{
 "cells": [
  {
   "cell_type": "code",
   "execution_count": 12,
   "id": "f353ec1e",
   "metadata": {},
   "outputs": [],
   "source": [
    "from langgraph.graph import StateGraph, START , END\n",
    "from typing import TypedDict"
   ]
  },
  {
   "cell_type": "code",
   "execution_count": 13,
   "id": "f2309ebc",
   "metadata": {},
   "outputs": [],
   "source": [
    "## define state\n",
    "class BMIState(TypedDict):\n",
    "    weight_kg : float\n",
    "    height_m : float\n",
    "    bmi : float\n",
    "    verdict : str"
   ]
  },
  {
   "cell_type": "code",
   "execution_count": 14,
   "id": "b36cbb8a",
   "metadata": {},
   "outputs": [],
   "source": [
    "def calculate_bmi(state : BMIState) -> BMIState:\n",
    "\n",
    "    weight = state['weight_kg']\n",
    "    height = state['height_m']\n",
    "\n",
    "    bmi = weight/(height**2)\n",
    "\n",
    "    state['bmi'] = round(bmi , 2)\n",
    "    \n",
    "    return state\n"
   ]
  },
  {
   "cell_type": "code",
   "execution_count": 18,
   "id": "befb2018",
   "metadata": {},
   "outputs": [],
   "source": [
    "def decision(state : BMIState)-> BMIState:\n",
    "    bmi = state['bmi']\n",
    "\n",
    "    if(bmi < 18.5):\n",
    "        state['verdict'] = 'underweight'\n",
    "    elif (bmi >= 18.5 ):\n",
    "        state['verdict'] = 'normal'\n",
    "    else:\n",
    "        state['verdict'] = 'overweight'\n",
    "    \n",
    "    return state"
   ]
  },
  {
   "cell_type": "code",
   "execution_count": 19,
   "id": "cadd61e6",
   "metadata": {},
   "outputs": [],
   "source": [
    "## define the graph\n",
    "graph = StateGraph(BMIState)\n",
    "\n",
    "## add nodes to the graph\n",
    "graph.add_node('calculator' , calculate_bmi)\n",
    "\n",
    "graph.add_node('verdict' , decision)\n",
    "## add edge\n",
    "graph.add_edge(START , 'calculator')\n",
    "graph.add_edge('calculator' , 'verdict')\n",
    "graph.add_edge('verdict' , END)\n",
    "\n",
    "## compile\n",
    "workflow = graph.compile()\n",
    "\n",
    "\n"
   ]
  },
  {
   "cell_type": "code",
   "execution_count": 20,
   "id": "8c0b20d1",
   "metadata": {},
   "outputs": [
    {
     "data": {
      "text/plain": [
       "{'weight_kg': 80, 'height_m': 1.73, 'bmi': 26.73, 'verdict': 'normal'}"
      ]
     },
     "execution_count": 20,
     "metadata": {},
     "output_type": "execute_result"
    }
   ],
   "source": [
    "## execute\n",
    "input_state = {'weight_kg':80 , 'height_m':1.73}\n",
    "output_state = workflow.invoke(input_state)\n",
    "output_state"
   ]
  },
  {
   "cell_type": "code",
   "execution_count": 22,
   "id": "0a3cfb7c",
   "metadata": {},
   "outputs": [
    {
     "data": {
      "image/png": "[encoded data removed]",
      "text/plain": [
       "<IPython.core.display.Image object>"
      ]
     },
     "execution_count": 22,
     "metadata": {},
     "output_type": "execute_result"
    }
   ],
   "source": [
    "from IPython.display import Image\n",
    "Image(workflow.get_graph().draw_mermaid_png())"
   ]
  },
  {
   "cell_type": "code",
   "execution_count": null,
   "id": "054142d9",
   "metadata": {},
   "outputs": [],
   "source": []
  }
 ],
 "metadata": {
  "kernelspec": {
   "display_name": "myenv",
   "language": "python",
   "name": "python3"
  },
  "language_info": {
   "codemirror_mode": {
    "name": "ipython",
    "version": 3
   },
   "file_extension": ".py",
   "mimetype": "text/x-python",
   "name": "python",
   "nbconvert_exporter": "python",
   "pygments_lexer": "ipython3",
   "version": "3.11.5"
  }
 },
 "nbformat": 4,
 "nbformat_minor": 5
}
